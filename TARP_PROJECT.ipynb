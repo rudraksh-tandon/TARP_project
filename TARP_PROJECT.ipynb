{
  "nbformat": 4,
  "nbformat_minor": 0,
  "metadata": {
    "colab": {
      "provenance": []
    },
    "kernelspec": {
      "name": "python3",
      "display_name": "Python 3"
    },
    "language_info": {
      "name": "python"
    }
  },
  "cells": [
    {
      "cell_type": "code",
      "source": [
        "import torch\n",
        "import torch.nn as nn\n",
        "import torch.optim as optim\n",
        "import copy\n",
        "import heapq\n",
        "from collections import OrderedDict\n",
        "from torch import tensor\n",
        "import time\n",
        "from sklearn.metrics import mean_absolute_error, r2_score\n",
        "import pandas as pd\n",
        "import numpy as np\n",
        "from sklearn.preprocessing import LabelEncoder\n",
        "from sklearn.model_selection import train_test_split, KFold"
      ],
      "metadata": {
        "id": "l2lqrQicp8_b"
      },
      "execution_count": 1,
      "outputs": []
    },
    {
      "cell_type": "code",
      "source": [
        "# Define a simple model\n",
        "class SimpleModel(nn.Module):\n",
        "    def __init__(self):\n",
        "        super(SimpleModel, self).__init__()\n",
        "        # self.fc = nn.Linear(2, 1)\n",
        "        self.fc = nn.Linear(5, 1)\n",
        "\n",
        "    def forward(self, x):\n",
        "        return self.fc(x)"
      ],
      "metadata": {
        "id": "6hpa5kzhp_2b"
      },
      "execution_count": 2,
      "outputs": []
    },
    {
      "cell_type": "code",
      "source": [
        "# Define a toy dataset\n",
        "def create_dataset():\n",
        "    X = torch.randn(100, 2)\n",
        "    y = X[:, 0] + X[:, 1]\n",
        "    print(X.shape)\n",
        "    print(y.shape)\n",
        "    return X, y\n"
      ],
      "metadata": {
        "id": "hjrXz8JFqB7t"
      },
      "execution_count": null,
      "outputs": []
    },
    {
      "cell_type": "code",
      "source": [
        "# Huffman encoding functions\n",
        "def build_huffman_tree(freq_map):\n",
        "    heap = [[weight, [char, \"\"]] for char, weight in freq_map.items()]\n",
        "    heapq.heapify(heap)\n",
        "    while len(heap) > 1:\n",
        "        lo = heapq.heappop(heap)\n",
        "        hi = heapq.heappop(heap)\n",
        "        for pair in lo[1:]:\n",
        "            pair[1] = '0' + pair[1]\n",
        "        for pair in hi[1:]:\n",
        "            pair[1] = '1' + pair[1]\n",
        "        heapq.heappush(heap, [lo[0] + hi[0]] + lo[1:] + hi[1:])\n",
        "    return sorted(heapq.heappop(heap)[1:], key=lambda p: (len(p[-1]), p))\n",
        "\n",
        "def encode_with_huffman(text, huffman_tree):\n",
        "    encoded_text = \"\"\n",
        "    for char in text:\n",
        "        encoded_text += next(item[1] for item in huffman_tree if item[0] == char)\n",
        "    return encoded_text\n",
        "\n",
        "def decode_with_huffman(encoded_text, huffman_tree):\n",
        "    decoded_text = \"\"\n",
        "    while encoded_text:\n",
        "        for item in huffman_tree:\n",
        "            if encoded_text.startswith(item[1]):\n",
        "                decoded_text += item[0]\n",
        "                encoded_text = encoded_text[len(item[1]):]\n",
        "                break\n",
        "    return decoded_text"
      ],
      "metadata": {
        "id": "MC1Ov-jiqFNf"
      },
      "execution_count": 3,
      "outputs": []
    },
    {
      "cell_type": "code",
      "source": [
        "# Federated Learning\n",
        "def federated_learning(num_clients, num_epochs):\n",
        "    global_model = SimpleModel()\n",
        "    global_optimizer = optim.SGD(global_model.parameters(), lr=0.01)\n",
        "    prediction_time = []\n",
        "    for epoch in range(num_epochs):\n",
        "        for client_id in range(num_clients):\n",
        "            # Create a new model for the client\n",
        "            local_model = SimpleModel()\n",
        "            local_model.load_state_dict(global_model.state_dict())\n",
        "            optimizer = optim.SGD(local_model.parameters(), lr=0.01)\n",
        "\n",
        "            # Create a dataset for the client\n",
        "            X, y = create_dataset()\n",
        "\n",
        "            start_time = time.time()\n",
        "            # Train the local model\n",
        "            for _ in range(10):  # 10 local updates per client\n",
        "                optimizer.zero_grad()\n",
        "                y_pred = local_model(X)\n",
        "                loss = nn.MSELoss()(y_pred, y)\n",
        "                loss.backward()\n",
        "                optimizer.step()\n",
        "            end_time = time.time()\n",
        "            prediction_time.append(end_time - start_time)\n",
        "\n",
        "            # Encode the local model's state dictionary with Huffman\n",
        "            local_model_state_dict_str = str(local_model.state_dict())\n",
        "            huffman_tree = build_huffman_tree({char: local_model_state_dict_str.count(char) for char in set(local_model_state_dict_str)})\n",
        "            encoded_state_dict = encode_with_huffman(local_model_state_dict_str, huffman_tree)\n",
        "\n",
        "            # Transmit encoded model to the server (in practice, this involves secure communication)\n",
        "            # Here, we'll just decode it for simplicity\n",
        "            decoded_state_dict = decode_with_huffman(encoded_state_dict, huffman_tree)\n",
        "\n",
        "            # Update the global model with the received state dictionary\n",
        "            global_model.load_state_dict(eval(decoded_state_dict))\n",
        "\n",
        "    return global_model, prediction_time"
      ],
      "metadata": {
        "id": "FK2sGmKsqILM"
      },
      "execution_count": null,
      "outputs": []
    },
    {
      "cell_type": "code",
      "source": [
        "if __name__ == \"__main__\":\n",
        "    num_clients = 2\n",
        "    num_epochs = 5\n",
        "    global_model, prediction_time = federated_learning(num_clients, num_epochs)\n",
        "    prediction_time_global = sum(prediction_time)\n",
        "    print(\"Global model trained using Federated Learning:\")\n",
        "    print(global_model.state_dict())\n",
        "    print(\"Time taken = \", prediction_time_global)\n"
      ],
      "metadata": {
        "colab": {
          "base_uri": "https://localhost:8080/"
        },
        "id": "0Qgxitl652lU",
        "outputId": "1d7282e6-7a98-46ce-a934-0ab494b9028a"
      },
      "execution_count": null,
      "outputs": [
        {
          "output_type": "stream",
          "name": "stdout",
          "text": [
            "torch.Size([100, 2])\n",
            "torch.Size([100])\n",
            "torch.Size([100, 2])\n",
            "torch.Size([100])\n",
            "torch.Size([100, 2])\n",
            "torch.Size([100])\n",
            "torch.Size([100, 2])\n",
            "torch.Size([100])\n",
            "torch.Size([100, 2])\n",
            "torch.Size([100])\n",
            "torch.Size([100, 2])\n",
            "torch.Size([100])\n",
            "torch.Size([100, 2])\n",
            "torch.Size([100])\n",
            "torch.Size([100, 2])\n",
            "torch.Size([100])\n",
            "torch.Size([100, 2])\n",
            "torch.Size([100])\n",
            "torch.Size([100, 2])\n",
            "torch.Size([100])\n",
            "Global model trained using Federated Learning:\n",
            "OrderedDict([('fc.weight', tensor([[-0.0786,  0.0982]])), ('fc.bias', tensor([-0.0537]))])\n",
            "Time taken =  0.0659027099609375\n"
          ]
        },
        {
          "output_type": "stream",
          "name": "stderr",
          "text": [
            "/usr/local/lib/python3.10/dist-packages/torch/nn/modules/loss.py:535: UserWarning: Using a target size (torch.Size([100])) that is different to the input size (torch.Size([100, 1])). This will likely lead to incorrect results due to broadcasting. Please ensure they have the same size.\n",
            "  return F.mse_loss(input, target, reduction=self.reduction)\n"
          ]
        }
      ]
    },
    {
      "cell_type": "code",
      "source": [
        "# Creating a dataset for training the normal model\n",
        "def create_large_dataset():\n",
        "    X_list = []\n",
        "    y_list = []\n",
        "\n",
        "    for _ in range(num_clients*num_epochs):\n",
        "        X, y = create_dataset()\n",
        "        X_list.append(X)\n",
        "        y_list.append(y)\n",
        "\n",
        "    X_large = torch.cat(X_list, dim=0)\n",
        "    y_large = torch.cat(y_list, dim=0)\n",
        "\n",
        "    return X_large, y_large\n",
        "\n",
        "# Usage\n",
        "X_large, y_large = create_large_dataset()"
      ],
      "metadata": {
        "id": "5KBgsYuQME2i",
        "colab": {
          "base_uri": "https://localhost:8080/"
        },
        "outputId": "d41a2eef-3f53-4656-911f-0cf4f3fa3e45"
      },
      "execution_count": null,
      "outputs": [
        {
          "output_type": "stream",
          "name": "stdout",
          "text": [
            "torch.Size([100, 2])\n",
            "torch.Size([100])\n",
            "torch.Size([100, 2])\n",
            "torch.Size([100])\n",
            "torch.Size([100, 2])\n",
            "torch.Size([100])\n",
            "torch.Size([100, 2])\n",
            "torch.Size([100])\n",
            "torch.Size([100, 2])\n",
            "torch.Size([100])\n",
            "torch.Size([100, 2])\n",
            "torch.Size([100])\n",
            "torch.Size([100, 2])\n",
            "torch.Size([100])\n",
            "torch.Size([100, 2])\n",
            "torch.Size([100])\n",
            "torch.Size([100, 2])\n",
            "torch.Size([100])\n",
            "torch.Size([100, 2])\n",
            "torch.Size([100])\n"
          ]
        }
      ]
    },
    {
      "cell_type": "code",
      "source": [
        "# Training a normal model with the large dataset\n",
        "\n",
        "# Initialize the model\n",
        "model = SimpleModel()\n",
        "\n",
        "# Define loss function and optimizer\n",
        "criterion = nn.MSELoss()\n",
        "optimizer = torch.optim.SGD(model.parameters(), lr=0.01)\n",
        "\n",
        "# Training loop\n",
        "start_time = time.time()\n",
        "for epoch in range(5):\n",
        "  for _ in range(10):\n",
        "      optimizer.zero_grad()\n",
        "      y_pred = model(X_large)\n",
        "      loss = nn.MSELoss()(y_pred, y_large)\n",
        "      loss.backward()\n",
        "      optimizer.step()\n",
        "end_time = time.time()\n",
        "prediction_time_normal = end_time - start_time\n",
        "\n",
        "print(\"Time taken = \" , prediction_time_normal)"
      ],
      "metadata": {
        "colab": {
          "base_uri": "https://localhost:8080/"
        },
        "id": "1_Yq7gxSNNDC",
        "outputId": "77f722d8-10f2-4eaf-920c-9adbeacde5a3"
      },
      "execution_count": null,
      "outputs": [
        {
          "output_type": "stream",
          "name": "stderr",
          "text": [
            "/usr/local/lib/python3.10/dist-packages/torch/nn/modules/loss.py:535: UserWarning: Using a target size (torch.Size([1000])) that is different to the input size (torch.Size([1000, 1])). This will likely lead to incorrect results due to broadcasting. Please ensure they have the same size.\n",
            "  return F.mse_loss(input, target, reduction=self.reduction)\n"
          ]
        },
        {
          "output_type": "stream",
          "name": "stdout",
          "text": [
            "Time taken =  0.23702454566955566\n"
          ]
        }
      ]
    },
    {
      "cell_type": "code",
      "source": [
        "# Generate a test dataset\n",
        "X_test, y_test = create_dataset()"
      ],
      "metadata": {
        "id": "8ZQ8OCPdznAg",
        "colab": {
          "base_uri": "https://localhost:8080/"
        },
        "outputId": "38a00c0c-5b08-4359-d37c-16ca0ed615f9"
      },
      "execution_count": null,
      "outputs": [
        {
          "output_type": "stream",
          "name": "stdout",
          "text": [
            "torch.Size([100, 2])\n",
            "torch.Size([100])\n"
          ]
        }
      ]
    },
    {
      "cell_type": "code",
      "source": [
        "# Make predictions on the test dataset\n",
        "with torch.no_grad():\n",
        "    predictions = global_model(X_test)\n",
        "\n",
        "# Convert predictions and ground truth to numpy arrays\n",
        "predictions = predictions.squeeze().cpu().numpy()\n",
        "y_test = y_test.cpu().numpy()\n",
        "\n",
        "# Calculate Mean Absolute Error (MAE) and R-squared\n",
        "mae_global = mean_absolute_error(y_test, predictions)\n",
        "r2_global = r2_score(y_test, predictions)\n",
        "\n",
        "# Print performance metrics\n",
        "print(f'Mean Absolute Error (MAE): {mae_global:.4f}')\n",
        "print(f'R-squared (R2): {r2_global:.4f}')\n"
      ],
      "metadata": {
        "colab": {
          "base_uri": "https://localhost:8080/"
        },
        "id": "crz0LhTgyHAL",
        "outputId": "37f7c610-e211-4f54-ffbd-a22ca046d0d4"
      },
      "execution_count": null,
      "outputs": [
        {
          "output_type": "stream",
          "name": "stdout",
          "text": [
            "Mean Absolute Error (MAE): 1.1643\n",
            "R-squared (R2): -0.0070\n"
          ]
        }
      ]
    },
    {
      "cell_type": "code",
      "source": [
        "# using a Simple Model to do the same predictions\n",
        "\n",
        "with torch.no_grad():\n",
        "    predictions = model(X_test)\n",
        "\n",
        "# Convert predictions and ground truth to numpy arrays\n",
        "predictions = predictions.squeeze().cpu().numpy()\n",
        "\n",
        "# Calculate Mean Absolute Error (MAE) and R-squared\n",
        "mae_normal = mean_absolute_error(y_test, predictions)\n",
        "r2_normal = r2_score(y_test, predictions)\n",
        "\n",
        "# Print performance metrics\n",
        "print(f'Mean Absolute Error (MAE): {mae_normal:.4f}')\n",
        "print(f'R-squared (R2): {r2_normal:.4f}')"
      ],
      "metadata": {
        "colab": {
          "base_uri": "https://localhost:8080/"
        },
        "id": "Qjz48Gu-ziNn",
        "outputId": "246148a2-cf57-4fac-ddaf-c393534b28d7"
      },
      "execution_count": null,
      "outputs": [
        {
          "output_type": "stream",
          "name": "stdout",
          "text": [
            "Mean Absolute Error (MAE): 1.3846\n",
            "R-squared (R2): -0.4409\n"
          ]
        }
      ]
    },
    {
      "cell_type": "code",
      "source": [
        "import matplotlib.pyplot as plt\n",
        "\n",
        "# Assuming you have the following values for two models\n",
        "model_names = ['Global Model', 'Normal Model']\n",
        "prediction_times = [prediction_time_global, prediction_time_normal]  # in seconds\n",
        "mae_values = [mae_global, mae_normal]\n",
        "r2_values = [r2_global, r2_normal]\n",
        "\n",
        "# Plotting the comparison\n",
        "fig, (ax1, ax2, ax3) = plt.subplots(1, 3, figsize=(15, 5))\n",
        "\n",
        "# Plot prediction times\n",
        "ax1.bar(model_names, prediction_times, color=['blue', 'green'])\n",
        "ax1.set_ylabel('Prediction Time (s)')\n",
        "ax1.set_title('Prediction Time Comparison')\n",
        "\n",
        "# Plot MSE values\n",
        "ax2.bar(model_names, mae_values, color=['blue', 'green'])\n",
        "ax2.set_ylabel('Mean Absolute Error (MSE)')\n",
        "ax2.set_title('MAE Comparison')\n",
        "\n",
        "# Plot R-squared values\n",
        "ax3.bar(model_names, r2_values, color=['blue', 'green'])\n",
        "ax3.set_ylabel('R-squared (R2)')\n",
        "ax3.set_title('R-squared Comparison')\n",
        "\n",
        "plt.tight_layout()\n",
        "plt.show()\n"
      ],
      "metadata": {
        "colab": {
          "base_uri": "https://localhost:8080/",
          "height": 401
        },
        "id": "ufikBJK61FnA",
        "outputId": "5cf32eb2-ab4a-4c5b-e64e-8bb939389065"
      },
      "execution_count": null,
      "outputs": [
        {
          "output_type": "display_data",
          "data": {
            "text/plain": [
              "<Figure size 1500x500 with 3 Axes>"
            ],
            "image/png": "[encoded data removed]"
          },
          "metadata": {}
        }
      ]
    },
    {
      "cell_type": "code",
      "source": [
        "data = pd.read_csv(\"Student_Performance.csv\")\n",
        "# data['Performance Index'] = data['Performance Index'].astype(int)\n",
        "data.head()\n",
        "data.dtypes"
      ],
      "metadata": {
        "colab": {
          "base_uri": "https://localhost:8080/"
        },
        "id": "s7CHhI3flpsk",
        "outputId": "199b1b90-7543-4066-fc04-165fbaa387e1"
      },
      "execution_count": 4,
      "outputs": [
        {
          "output_type": "execute_result",
          "data": {
            "text/plain": [
              "Hours Studied                         int64\n",
              "Previous Scores                       int64\n",
              "Extracurricular Activities           object\n",
              "Sleep Hours                           int64\n",
              "Sample Question Papers Practiced      int64\n",
              "Performance Index                   float64\n",
              "dtype: object"
            ]
          },
          "metadata": {},
          "execution_count": 4
        }
      ]
    },
    {
      "cell_type": "code",
      "source": [
        "print(\"data.shape = \", data.shape)\n",
        "data = data.dropna(how='any', axis=0)\n",
        "print(data.shape)"
      ],
      "metadata": {
        "colab": {
          "base_uri": "https://localhost:8080/"
        },
        "id": "8YOm1g07m7Sw",
        "outputId": "bb3d2606-691e-4c3c-cfee-fc74a6456fc8"
      },
      "execution_count": 5,
      "outputs": [
        {
          "output_type": "stream",
          "name": "stdout",
          "text": [
            "data.shape =  (10000, 6)\n",
            "(10000, 6)\n"
          ]
        }
      ]
    },
    {
      "cell_type": "code",
      "source": [
        "# data[data.isnull()==True]\n",
        "data = data.dropna()\n",
        "data.head()"
      ],
      "metadata": {
        "colab": {
          "base_uri": "https://localhost:8080/",
          "height": 206
        },
        "id": "EdDYPMa-5Z0L",
        "outputId": "4ed4d06f-1a78-48b8-c671-2298fbdcca28"
      },
      "execution_count": 6,
      "outputs": [
        {
          "output_type": "execute_result",
          "data": {
            "text/plain": [
              "   Hours Studied  Previous Scores Extracurricular Activities  Sleep Hours  \\\n",
              "0              7               99                        Yes            9   \n",
              "1              4               82                         No            4   \n",
              "2              8               51                        Yes            7   \n",
              "3              5               52                        Yes            5   \n",
              "4              7               75                         No            8   \n",
              "\n",
              "   Sample Question Papers Practiced  Performance Index  \n",
              "0                                 1               91.0  \n",
              "1                                 2               65.0  \n",
              "2                                 2               45.0  \n",
              "3                                 2               36.0  \n",
              "4                                 5               66.0  "
            ],
            "text/html": [
              "\n",
              "  <div id=\"df-6254fdd8-94e0-46e3-af1c-14838701d6ed\" class=\"colab-df-container\">\n",
              "    <div>\n",
              "<style scoped>\n",
              "    .dataframe tbody tr th:only-of-type {\n",
              "        vertical-align: middle;\n",
              "    }\n",
              "\n",
              "    .dataframe tbody tr th {\n",
              "        vertical-align: top;\n",
              "    }\n",
              "\n",
              "    .dataframe thead th {\n",
              "        text-align: right;\n",
              "    }\n",
              "</style>\n",
              "<table border=\"1\" class=\"dataframe\">\n",
              "  <thead>\n",
              "    <tr style=\"text-align: right;\">\n",
              "      <th></th>\n",
              "      <th>Hours Studied</th>\n",
              "      <th>Previous Scores</th>\n",
              "      <th>Extracurricular Activities</th>\n",
              "      <th>Sleep Hours</th>\n",
              "      <th>Sample Question Papers Practiced</th>\n",
              "      <th>Performance Index</th>\n",
              "    </tr>\n",
              "  </thead>\n",
              "  <tbody>\n",
              "    <tr>\n",
              "      <th>0</th>\n",
              "      <td>7</td>\n",
              "      <td>99</td>\n",
              "      <td>Yes</td>\n",
              "      <td>9</td>\n",
              "      <td>1</td>\n",
              "      <td>91.0</td>\n",
              "    </tr>\n",
              "    <tr>\n",
              "      <th>1</th>\n",
              "      <td>4</td>\n",
              "      <td>82</td>\n",
              "      <td>No</td>\n",
              "      <td>4</td>\n",
              "      <td>2</td>\n",
              "      <td>65.0</td>\n",
              "    </tr>\n",
              "    <tr>\n",
              "      <th>2</th>\n",
              "      <td>8</td>\n",
              "      <td>51</td>\n",
              "      <td>Yes</td>\n",
              "      <td>7</td>\n",
              "      <td>2</td>\n",
              "      <td>45.0</td>\n",
              "    </tr>\n",
              "    <tr>\n",
              "      <th>3</th>\n",
              "      <td>5</td>\n",
              "      <td>52</td>\n",
              "      <td>Yes</td>\n",
              "      <td>5</td>\n",
              "      <td>2</td>\n",
              "      <td>36.0</td>\n",
              "    </tr>\n",
              "    <tr>\n",
              "      <th>4</th>\n",
              "      <td>7</td>\n",
              "      <td>75</td>\n",
              "      <td>No</td>\n",
              "      <td>8</td>\n",
              "      <td>5</td>\n",
              "      <td>66.0</td>\n",
              "    </tr>\n",
              "  </tbody>\n",
              "</table>\n",
              "</div>\n",
              "    <div class=\"colab-df-buttons\">\n",
              "\n",
              "  <div class=\"colab-df-container\">\n",
              "    <button class=\"colab-df-convert\" onclick=\"convertToInteractive('df-6254fdd8-94e0-46e3-af1c-14838701d6ed')\"\n",
              "            title=\"Convert this dataframe to an interactive table.\"\n",
              "            style=\"display:none;\">\n",
              "\n",
              "  <svg xmlns=\"http://www.w3.org/2000/svg\" height=\"24px\" viewBox=\"0 -960 960 960\">\n",
              "    <path d=\"M120-120v-720h720v720H120Zm60-500h600v-160H180v160Zm220 220h160v-160H400v160Zm0 220h160v-160H400v160ZM180-400h160v-160H180v160Zm440 0h160v-160H620v160ZM180-180h160v-160H180v160Zm440 0h160v-160H620v160Z\"/>\n",
              "  </svg>\n",
              "    </button>\n",
              "\n",
              "  <style>\n",
              "    .colab-df-container {\n",
              "      display:flex;\n",
              "      gap: 12px;\n",
              "    }\n",
              "\n",
              "    .colab-df-convert {\n",
              "      background-color: #E8F0FE;\n",
              "      border: none;\n",
              "      border-radius: 50%;\n",
              "      cursor: pointer;\n",
              "      display: none;\n",
              "      fill: #1967D2;\n",
              "      height: 32px;\n",
              "      padding: 0 0 0 0;\n",
              "      width: 32px;\n",
              "    }\n",
              "\n",
              "    .colab-df-convert:hover {\n",
              "      background-color: #E2EBFA;\n",
              "      box-shadow: 0px 1px 2px rgba(60, 64, 67, 0.3), 0px 1px 3px 1px rgba(60, 64, 67, 0.15);\n",
              "      fill: #174EA6;\n",
              "    }\n",
              "\n",
              "    .colab-df-buttons div {\n",
              "      margin-bottom: 4px;\n",
              "    }\n",
              "\n",
              "    [theme=dark] .colab-df-convert {\n",
              "      background-color: #3B4455;\n",
              "      fill: #D2E3FC;\n",
              "    }\n",
              "\n",
              "    [theme=dark] .colab-df-convert:hover {\n",
              "      background-color: #434B5C;\n",
              "      box-shadow: 0px 1px 3px 1px rgba(0, 0, 0, 0.15);\n",
              "      filter: drop-shadow(0px 1px 2px rgba(0, 0, 0, 0.3));\n",
              "      fill: #FFFFFF;\n",
              "    }\n",
              "  </style>\n",
              "\n",
              "    <script>\n",
              "      const buttonEl =\n",
              "        document.querySelector('#df-6254fdd8-94e0-46e3-af1c-14838701d6ed button.colab-df-convert');\n",
              "      buttonEl.style.display =\n",
              "        google.colab.kernel.accessAllowed ? 'block' : 'none';\n",
              "\n",
              "      async function convertToInteractive(key) {\n",
              "        const element = document.querySelector('#df-6254fdd8-94e0-46e3-af1c-14838701d6ed');\n",
              "        const dataTable =\n",
              "          await google.colab.kernel.invokeFunction('convertToInteractive',\n",
              "                                                    [key], {});\n",
              "        if (!dataTable) return;\n",
              "\n",
              "        const docLinkHtml = 'Like what you see? Visit the ' +\n",
              "          '<a target=\"_blank\" href=https://colab.research.google.com/notebooks/data_table.ipynb>data table notebook</a>'\n",
              "          + ' to learn more about interactive tables.';\n",
              "        element.innerHTML = '';\n",
              "        dataTable['output_type'] = 'display_data';\n",
              "        await google.colab.output.renderOutput(dataTable, element);\n",
              "        const docLink = document.createElement('div');\n",
              "        docLink.innerHTML = docLinkHtml;\n",
              "        element.appendChild(docLink);\n",
              "      }\n",
              "    </script>\n",
              "  </div>\n",
              "\n",
              "\n",
              "<div id=\"df-1c836e5b-76a3-40b6-a775-10fa4c7f5f70\">\n",
              "  <button class=\"colab-df-quickchart\" onclick=\"quickchart('df-1c836e5b-76a3-40b6-a775-10fa4c7f5f70')\"\n",
              "            title=\"Suggest charts\"\n",
              "            style=\"display:none;\">\n",
              "\n",
              "<svg xmlns=\"http://www.w3.org/2000/svg\" height=\"24px\"viewBox=\"0 0 24 24\"\n",
              "     width=\"24px\">\n",
              "    <g>\n",
              "        <path d=\"M19 3H5c-1.1 0-2 .9-2 2v14c0 1.1.9 2 2 2h14c1.1 0 2-.9 2-2V5c0-1.1-.9-2-2-2zM9 17H7v-7h2v7zm4 0h-2V7h2v10zm4 0h-2v-4h2v4z\"/>\n",
              "    </g>\n",
              "</svg>\n",
              "  </button>\n",
              "\n",
              "<style>\n",
              "  .colab-df-quickchart {\n",
              "      --bg-color: #E8F0FE;\n",
              "      --fill-color: #1967D2;\n",
              "      --hover-bg-color: #E2EBFA;\n",
              "      --hover-fill-color: #174EA6;\n",
              "      --disabled-fill-color: #AAA;\n",
              "      --disabled-bg-color: #DDD;\n",
              "  }\n",
              "\n",
              "  [theme=dark] .colab-df-quickchart {\n",
              "      --bg-color: #3B4455;\n",
              "      --fill-color: #D2E3FC;\n",
              "      --hover-bg-color: #434B5C;\n",
              "      --hover-fill-color: #FFFFFF;\n",
              "      --disabled-bg-color: #3B4455;\n",
              "      --disabled-fill-color: #666;\n",
              "  }\n",
              "\n",
              "  .colab-df-quickchart {\n",
              "    background-color: var(--bg-color);\n",
              "    border: none;\n",
              "    border-radius: 50%;\n",
              "    cursor: pointer;\n",
              "    display: none;\n",
              "    fill: var(--fill-color);\n",
              "    height: 32px;\n",
              "    padding: 0;\n",
              "    width: 32px;\n",
              "  }\n",
              "\n",
              "  .colab-df-quickchart:hover {\n",
              "    background-color: var(--hover-bg-color);\n",
              "    box-shadow: 0 1px 2px rgba(60, 64, 67, 0.3), 0 1px 3px 1px rgba(60, 64, 67, 0.15);\n",
              "    fill: var(--button-hover-fill-color);\n",
              "  }\n",
              "\n",
              "  .colab-df-quickchart-complete:disabled,\n",
              "  .colab-df-quickchart-complete:disabled:hover {\n",
              "    background-color: var(--disabled-bg-color);\n",
              "    fill: var(--disabled-fill-color);\n",
              "    box-shadow: none;\n",
              "  }\n",
              "\n",
              "  .colab-df-spinner {\n",
              "    border: 2px solid var(--fill-color);\n",
              "    border-color: transparent;\n",
              "    border-bottom-color: var(--fill-color);\n",
              "    animation:\n",
              "      spin 1s steps(1) infinite;\n",
              "  }\n",
              "\n",
              "  @keyframes spin {\n",
              "    0% {\n",
              "      border-color: transparent;\n",
              "      border-bottom-color: var(--fill-color);\n",
              "      border-left-color: var(--fill-color);\n",
              "    }\n",
              "    20% {\n",
              "      border-color: transparent;\n",
              "      border-left-color: var(--fill-color);\n",
              "      border-top-color: var(--fill-color);\n",
              "    }\n",
              "    30% {\n",
              "      border-color: transparent;\n",
              "      border-left-color: var(--fill-color);\n",
              "      border-top-color: var(--fill-color);\n",
              "      border-right-color: var(--fill-color);\n",
              "    }\n",
              "    40% {\n",
              "      border-color: transparent;\n",
              "      border-right-color: var(--fill-color);\n",
              "      border-top-color: var(--fill-color);\n",
              "    }\n",
              "    60% {\n",
              "      border-color: transparent;\n",
              "      border-right-color: var(--fill-color);\n",
              "    }\n",
              "    80% {\n",
              "      border-color: transparent;\n",
              "      border-right-color: var(--fill-color);\n",
              "      border-bottom-color: var(--fill-color);\n",
              "    }\n",
              "    90% {\n",
              "      border-color: transparent;\n",
              "      border-bottom-color: var(--fill-color);\n",
              "    }\n",
              "  }\n",
              "</style>\n",
              "\n",
              "  <script>\n",
              "    async function quickchart(key) {\n",
              "      const quickchartButtonEl =\n",
              "        document.querySelector('#' + key + ' button');\n",
              "      quickchartButtonEl.disabled = true;  // To prevent multiple clicks.\n",
              "      quickchartButtonEl.classList.add('colab-df-spinner');\n",
              "      try {\n",
              "        const charts = await google.colab.kernel.invokeFunction(\n",
              "            'suggestCharts', [key], {});\n",
              "      } catch (error) {\n",
              "        console.error('Error during call to suggestCharts:', error);\n",
              "      }\n",
              "      quickchartButtonEl.classList.remove('colab-df-spinner');\n",
              "      quickchartButtonEl.classList.add('colab-df-quickchart-complete');\n",
              "    }\n",
              "    (() => {\n",
              "      let quickchartButtonEl =\n",
              "        document.querySelector('#df-1c836e5b-76a3-40b6-a775-10fa4c7f5f70 button');\n",
              "      quickchartButtonEl.style.display =\n",
              "        google.colab.kernel.accessAllowed ? 'block' : 'none';\n",
              "    })();\n",
              "  </script>\n",
              "</div>\n",
              "    </div>\n",
              "  </div>\n"
            ]
          },
          "metadata": {},
          "execution_count": 6
        }
      ]
    },
    {
      "cell_type": "code",
      "source": [
        "label_encoder = LabelEncoder()\n",
        "data['Extracurricular Activities'] = label_encoder.fit_transform(data['Extracurricular Activities'])\n",
        "data.dtypes"
      ],
      "metadata": {
        "colab": {
          "base_uri": "https://localhost:8080/"
        },
        "id": "gNSE7QaeluCI",
        "outputId": "da7e3dd7-4978-4bb1-ab3b-56dd5740444e"
      },
      "execution_count": 7,
      "outputs": [
        {
          "output_type": "execute_result",
          "data": {
            "text/plain": [
              "Hours Studied                         int64\n",
              "Previous Scores                       int64\n",
              "Extracurricular Activities            int64\n",
              "Sleep Hours                           int64\n",
              "Sample Question Papers Practiced      int64\n",
              "Performance Index                   float64\n",
              "dtype: object"
            ]
          },
          "metadata": {},
          "execution_count": 7
        }
      ]
    },
    {
      "cell_type": "code",
      "source": [
        "X = data.drop([\"Performance Index\"], axis=1)\n",
        "y = data[\"Performance Index\"]"
      ],
      "metadata": {
        "id": "ZD66tn6klznq"
      },
      "execution_count": 8,
      "outputs": []
    },
    {
      "cell_type": "code",
      "source": [
        "X_train, X_test, y_train, y_test = train_test_split(X, y, train_size = 0.7, random_state = 42)\n",
        "print(X_train.shape)\n",
        "\n",
        "# convert dataframe to pytorch tensor\n",
        "X_train = torch.tensor(X_train.values, dtype=torch.float)\n",
        "X_test = torch.tensor(X_test.values, dtype=torch.float)\n",
        "y_train = torch.tensor(y_train.values, dtype=torch.float)\n",
        "y_test = torch.tensor(y_test.values, dtype=torch.float)"
      ],
      "metadata": {
        "colab": {
          "base_uri": "https://localhost:8080/"
        },
        "id": "ktbgs7U4l0XI",
        "outputId": "49b08895-dec7-4e23-be09-0d6a46008b00"
      },
      "execution_count": 9,
      "outputs": [
        {
          "output_type": "stream",
          "name": "stdout",
          "text": [
            "(7000, 5)\n"
          ]
        }
      ]
    },
    {
      "cell_type": "code",
      "source": [
        "# Federated Learning\n",
        "def new_federated_learning(num_clients, num_epochs):\n",
        "    global_model = SimpleModel()\n",
        "    global_optimizer = optim.SGD(global_model.parameters(), lr=0.01)\n",
        "    prediction_time = []\n",
        "    i = -1\n",
        "    for epoch in range(num_epochs):\n",
        "        for client_id in range(num_clients):\n",
        "            # Create a new model for the client\n",
        "            i = i + 1\n",
        "            local_model = SimpleModel()\n",
        "            local_model.load_state_dict(global_model.state_dict())\n",
        "            optimizer = optim.SGD(local_model.parameters(), lr=0.0001)\n",
        "\n",
        "            # Create a dataset for the client\n",
        "            X = X_train[700*i : 700*(i+1)+1]\n",
        "            y = y_train[700*i : 700*(i+1)+1]\n",
        "\n",
        "            start_time = time.time()\n",
        "            # Train the local model\n",
        "            for _ in range(10):  # 10 local updates per client\n",
        "                optimizer.zero_grad()\n",
        "                y_pred = local_model(X)\n",
        "                loss = nn.MSELoss()(y_pred, y)\n",
        "                loss.backward()\n",
        "                optimizer.step()\n",
        "            end_time = time.time()\n",
        "            prediction_time.append(end_time - start_time)\n",
        "\n",
        "            # Encode the local model's state dictionary with Huffman\n",
        "            local_model_state_dict_str = str(local_model.state_dict())\n",
        "            huffman_tree = build_huffman_tree({char: local_model_state_dict_str.count(char) for char in set(local_model_state_dict_str)})\n",
        "            encoded_state_dict = encode_with_huffman(local_model_state_dict_str, huffman_tree)\n",
        "\n",
        "            # print(encoded_state_dict)\n",
        "            # Transmit encoded model to the server (in practice, this involves secure communication)\n",
        "            # Here, we'll just decode it for simplicity\n",
        "            decoded_state_dict = decode_with_huffman(encoded_state_dict, huffman_tree)\n",
        "            # print(decoded_state_dict)\n",
        "            # Update the global model with the received state dictionary\n",
        "            global_model.load_state_dict(eval(decoded_state_dict))\n",
        "\n",
        "    return global_model, prediction_time"
      ],
      "metadata": {
        "id": "kz7pHSSBl57Z"
      },
      "execution_count": 20,
      "outputs": []
    },
    {
      "cell_type": "code",
      "source": [
        "if __name__ == \"__main__\":\n",
        "    num_clients = 2\n",
        "    num_epochs = 5\n",
        "    global_model, prediction_time = new_federated_learning(num_clients, num_epochs)\n",
        "    prediction_time_global = sum(prediction_time)\n",
        "    print(\"Global model trained using Federated Learning:\")\n",
        "    print(global_model.state_dict())\n",
        "    print(\"Time taken = \", prediction_time_global)"
      ],
      "metadata": {
        "colab": {
          "base_uri": "https://localhost:8080/"
        },
        "id": "XEloCTnKnoCX",
        "outputId": "240090fd-5e6a-4175-ad40-8b6b96b68f58"
      },
      "execution_count": 21,
      "outputs": [
        {
          "output_type": "stream",
          "name": "stdout",
          "text": [
            "Global model trained using Federated Learning:\n",
            "OrderedDict([('fc.weight', tensor([[0.2405, 0.6717, 0.3682, 0.2511, 0.5727]])), ('fc.bias', tensor([-0.0160]))])\n",
            "Time taken =  0.30333924293518066\n"
          ]
        }
      ]
    },
    {
      "cell_type": "code",
      "source": [
        "# Training a normal model with the large dataset\n",
        "\n",
        "# Initialize the model\n",
        "model = SimpleModel()\n",
        "\n",
        "# Define loss function and optimizer\n",
        "criterion = nn.MSELoss()\n",
        "optimizer = torch.optim.SGD(model.parameters(), lr=0.0001)\n",
        "\n",
        "# Training loop\n",
        "start_time = time.time()\n",
        "for epoch in range(5):\n",
        "  for _ in range(2):\n",
        "      optimizer.zero_grad()\n",
        "      y_pred = model(X_train)\n",
        "      loss = nn.MSELoss()(y_pred, y_train)\n",
        "      loss.backward()\n",
        "      optimizer.step()\n",
        "end_time = time.time()\n",
        "prediction_time_normal = end_time - start_time\n",
        "\n",
        "print(\"Time taken = \" , prediction_time_normal)"
      ],
      "metadata": {
        "colab": {
          "base_uri": "https://localhost:8080/"
        },
        "id": "lPuUAraonbBP",
        "outputId": "6b1910ad-935c-4439-e5ff-d35e1ddb6be2"
      },
      "execution_count": 25,
      "outputs": [
        {
          "output_type": "stream",
          "name": "stdout",
          "text": [
            "Time taken =  3.2035014629364014\n"
          ]
        }
      ]
    },
    {
      "cell_type": "code",
      "source": [
        "# Make predictions on the test dataset\n",
        "with torch.no_grad():\n",
        "    predictions = global_model(X_test)\n",
        "\n",
        "# Convert predictions and ground truth to numpy arrays\n",
        "predictions = predictions.squeeze().cpu().numpy()\n",
        "y_test = y_test.cpu().numpy()\n",
        "\n",
        "# Calculate Mean Absolute Error (MAE) and R-squared\n",
        "mae_global = mean_absolute_error(y_test, predictions)\n",
        "r2_global = r2_score(y_test, predictions)\n",
        "\n",
        "# Print performance metrics\n",
        "print(f'Mean Absolute Error (MAE): {mae_global:.4f}')\n",
        "print(f'R-squared (R2): {r2_global:.4f}')"
      ],
      "metadata": {
        "colab": {
          "base_uri": "https://localhost:8080/"
        },
        "id": "3nSyAmdaoMCw",
        "outputId": "165867dc-aaed-4308-b98c-2fa741138b50"
      },
      "execution_count": 26,
      "outputs": [
        {
          "output_type": "stream",
          "name": "stdout",
          "text": [
            "Mean Absolute Error (MAE): 7.8617\n",
            "R-squared (R2): 0.7475\n"
          ]
        }
      ]
    },
    {
      "cell_type": "code",
      "source": [
        "# using a Simple Model to do the same predictions\n",
        "\n",
        "with torch.no_grad():\n",
        "    predictions = model(X_test)\n",
        "\n",
        "# Convert predictions and ground truth to numpy arrays\n",
        "predictions = predictions.squeeze().cpu().numpy()\n",
        "\n",
        "# Calculate Mean Absolute Error (MAE) and R-squared\n",
        "mae_normal = mean_absolute_error(y_test, predictions)\n",
        "r2_normal = r2_score(y_test, predictions)\n",
        "\n",
        "# Print performance metrics\n",
        "print(f'Mean Absolute Error (MAE): {mae_normal:.4f}')\n",
        "print(f'R-squared (R2): {r2_normal:.4f}')"
      ],
      "metadata": {
        "colab": {
          "base_uri": "https://localhost:8080/"
        },
        "id": "9iCAtDK6oV_T",
        "outputId": "219dd997-0608-4658-ac13-739dd6ef236c"
      },
      "execution_count": 27,
      "outputs": [
        {
          "output_type": "stream",
          "name": "stdout",
          "text": [
            "Mean Absolute Error (MAE): 7.8996\n",
            "R-squared (R2): 0.7478\n"
          ]
        }
      ]
    },
    {
      "cell_type": "code",
      "source": [
        "import matplotlib.pyplot as plt\n",
        "\n",
        "# Assuming you have the following values for two models\n",
        "model_names = ['Global Model', 'Normal Model']\n",
        "prediction_times = [prediction_time_global, prediction_time_normal]  # in seconds\n",
        "mae_values = [mae_global, mae_normal]\n",
        "r2_values = [r2_global, r2_normal]\n",
        "\n",
        "# Plotting the comparison\n",
        "fig, (ax1, ax2, ax3) = plt.subplots(1, 3, figsize=(15, 5))\n",
        "\n",
        "# Plot prediction times\n",
        "ax1.bar(model_names, prediction_times, color=['blue', 'green'])\n",
        "ax1.set_ylabel('Prediction Time (s)')\n",
        "ax1.set_title('Prediction Time Comparison')\n",
        "\n",
        "# Plot MSE values\n",
        "ax2.bar(model_names, mae_values, color=['blue', 'green'])\n",
        "ax2.set_ylabel('Mean Absolute Error (MSE)')\n",
        "ax2.set_title('MAE Comparison')\n",
        "\n",
        "# Plot R-squared values\n",
        "ax3.bar(model_names, r2_values, color=['blue', 'green'])\n",
        "ax3.set_ylabel('R-squared (R2)')\n",
        "ax3.set_title('R-squared Comparison')\n",
        "\n",
        "plt.tight_layout()\n",
        "plt.show()\n"
      ],
      "metadata": {
        "colab": {
          "base_uri": "https://localhost:8080/",
          "height": 401
        },
        "id": "S0TykLqJoYSN",
        "outputId": "38515640-7498-4320-8b27-c85e7b1c7c45"
      },
      "execution_count": 28,
      "outputs": [
        {
          "output_type": "display_data",
          "data": {
            "text/plain": [
              "<Figure size 1500x500 with 3 Axes>"
            ],
            "image/png": "[encoded data removed]"
          },
          "metadata": {}
        }
      ]
    }
  ]
}